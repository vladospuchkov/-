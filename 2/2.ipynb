{
 "cells": [
  {
   "cell_type": "code",
   "execution_count": 1,
   "metadata": {},
   "outputs": [
    {
     "name": "stdout",
     "output_type": "stream",
     "text": [
      "Клонирование в «yolov5»...\n",
      "remote: Enumerating objects: 16559, done.\u001b[K\n",
      "remote: Counting objects: 100% (37/37), done.\u001b[K\n",
      "remote: Compressing objects: 100% (24/24), done.\u001b[K\n",
      "remote: Total 16559 (delta 18), reused 27 (delta 13), pack-reused 16522\u001b[K\n",
      "Получение объектов: 100% (16559/16559), 15.01 МиБ | 1.12 МиБ/с, готово.\n",
      "Определение изменений: 100% (11377/11377), готово.\n"
     ]
    }
   ],
   "source": [
    "!git clone https://github.com/ultralytics/yolov5.git"
   ]
  },
  {
   "cell_type": "code",
   "execution_count": 1,
   "metadata": {},
   "outputs": [],
   "source": [
    "import torch"
   ]
  },
  {
   "cell_type": "code",
   "execution_count": 2,
   "metadata": {},
   "outputs": [
    {
     "name": "stdout",
     "output_type": "stream",
     "text": [
      "\u001b[34m\u001b[1mtrain: \u001b[0mweights=yolov5s.pt, cfg=, data=/home/vladislave/coding/ii/2/Raccoon_Detector/data.yaml, hyp=/home/vladislave/coding/ii/2/yolov5/data/hyps/my_hyp.yaml, epochs=50, batch_size=32, imgsz=640, rect=False, resume=False, nosave=False, noval=False, noautoanchor=False, noplots=False, evolve=None, evolve_population=yolov5/data/hyps, resume_evolve=None, bucket=, cache=None, image_weights=False, device=, multi_scale=False, single_cls=False, optimizer=SGD, sync_bn=False, workers=4, project=yolov5/runs/train, name=popitka, exist_ok=False, quad=False, cos_lr=False, label_smoothing=0.0, patience=100, freeze=[0], save_period=-1, seed=0, local_rank=-1, entity=None, upload_dataset=False, bbox_interval=-1, artifact_alias=latest, ndjson_console=False, ndjson_file=False\n",
      "\u001b[34m\u001b[1mgithub: \u001b[0mup to date with https://github.com/ultralytics/yolov5 ✅\n",
      "YOLOv5 🚀 v7.0-303-gcf8b67b7 Python-3.10.12 torch-2.2.0+cu121 CUDA:0 (NVIDIA GeForce RTX 3060 Laptop GPU, 5938MiB)\n",
      "\n",
      "Traceback (most recent call last):\n",
      "  File \"/home/vladislave/coding/ii/2/yolov5/train.py\", line 848, in <module>\n",
      "    main(opt)\n",
      "  File \"/home/vladislave/coding/ii/2/yolov5/train.py\", line 623, in main\n",
      "    train(opt.hyp, opt, device, callbacks)\n",
      "  File \"/home/vladislave/coding/ii/2/yolov5/train.py\", line 135, in train\n",
      "    hyp = yaml.safe_load(f)  # load hyps dict\n",
      "  File \"/home/vladislave/.local/lib/python3.10/site-packages/yaml/__init__.py\", line 125, in safe_load\n",
      "    return load(stream, SafeLoader)\n",
      "  File \"/home/vladislave/.local/lib/python3.10/site-packages/yaml/__init__.py\", line 81, in load\n",
      "    return loader.get_single_data()\n",
      "  File \"/home/vladislave/.local/lib/python3.10/site-packages/yaml/constructor.py\", line 49, in get_single_data\n",
      "    node = self.get_single_node()\n",
      "  File \"/home/vladislave/.local/lib/python3.10/site-packages/yaml/composer.py\", line 36, in get_single_node\n",
      "    document = self.compose_document()\n",
      "  File \"/home/vladislave/.local/lib/python3.10/site-packages/yaml/composer.py\", line 55, in compose_document\n",
      "    node = self.compose_node(None, None)\n",
      "  File \"/home/vladislave/.local/lib/python3.10/site-packages/yaml/composer.py\", line 84, in compose_node\n",
      "    node = self.compose_mapping_node(anchor)\n",
      "  File \"/home/vladislave/.local/lib/python3.10/site-packages/yaml/composer.py\", line 127, in compose_mapping_node\n",
      "    while not self.check_event(MappingEndEvent):\n",
      "  File \"/home/vladislave/.local/lib/python3.10/site-packages/yaml/parser.py\", line 98, in check_event\n",
      "    self.current_event = self.state()\n",
      "  File \"/home/vladislave/.local/lib/python3.10/site-packages/yaml/parser.py\", line 428, in parse_block_mapping_key\n",
      "    if self.check_token(KeyToken):\n",
      "  File \"/home/vladislave/.local/lib/python3.10/site-packages/yaml/scanner.py\", line 115, in check_token\n",
      "    while self.need_more_tokens():\n",
      "  File \"/home/vladislave/.local/lib/python3.10/site-packages/yaml/scanner.py\", line 152, in need_more_tokens\n",
      "    self.stale_possible_simple_keys()\n",
      "  File \"/home/vladislave/.local/lib/python3.10/site-packages/yaml/scanner.py\", line 291, in stale_possible_simple_keys\n",
      "    raise ScannerError(\"while scanning a simple key\", key.mark,\n",
      "yaml.scanner.ScannerError: while scanning a simple key\n",
      "  in \"/home/vladislave/coding/ii/2/yolov5/data/hyps/my_hyp.yaml\", line 39, column 1\n",
      "could not find expected ':'\n",
      "  in \"/home/vladislave/coding/ii/2/yolov5/data/hyps/my_hyp.yaml\", line 51, column 4\n"
     ]
    }
   ],
   "source": [
    "!python3.10 /home/vladislave/coding/ii/2/yolov5/train.py --data /home/vladislave/coding/ii/2/Raccoon_Detector/data.yaml --weights yolov5s.pt \\\n",
    "--hyp /home/vladislave/coding/ii/2/yolov5/data/hyps/my_hyp.yaml \\\n",
    "--epochs 50 --batch-size 32 --optimizer SGD --name popitka --workers 4"
   ]
  },
  {
   "cell_type": "code",
   "execution_count": 2,
   "metadata": {},
   "outputs": [
    {
     "name": "stdout",
     "output_type": "stream",
     "text": [
      "\u001b[34m\u001b[1mdetect: \u001b[0mweights=['/home/vladislave/coding/ii/2/yolov5/runs/train/popitka/weights/best.pt'], source=/home/vladislave/coding/ii/2/yolov5/runs/detect/exp/ba5594c345bf064cbcd9c8d014848dc3.jpg, data=yolov5/data/coco128.yaml, imgsz=[896, 896], conf_thres=0.25, iou_thres=0.45, max_det=1000, device=, view_img=False, save_txt=True, save_csv=False, save_conf=False, save_crop=True, nosave=False, classes=None, agnostic_nms=False, augment=False, visualize=False, update=False, project=yolov5/runs/detect, name=exp, exist_ok=False, line_thickness=3, hide_labels=False, hide_conf=False, half=False, dnn=False, vid_stride=1\n",
      "YOLOv5 🚀 v7.0-303-gcf8b67b7 Python-3.10.12 torch-2.2.0+cu121 CUDA:0 (NVIDIA GeForce RTX 3060 Laptop GPU, 5938MiB)\n",
      "\n",
      "Fusing layers... \n",
      "Model summary: 157 layers, 7012822 parameters, 0 gradients, 15.8 GFLOPs\n",
      "image 1/1 /home/vladislave/coding/ii/2/yolov5/runs/detect/exp/ba5594c345bf064cbcd9c8d014848dc3.jpg: 672x896 2 raccoons, 55.5ms\n",
      "Speed: 0.5ms pre-process, 55.5ms inference, 230.7ms NMS per image at shape (1, 3, 896, 896)\n",
      "Results saved to \u001b[1myolov5/runs/detect/exp4\u001b[0m\n",
      "1 labels saved to yolov5/runs/detect/exp4/labels\n"
     ]
    }
   ],
   "source": [
    "!python3.10 /home/vladislave/coding/ii/2/yolov5/detect.py --source '/home/vladislave/coding/ii/2/yolov5/runs/detect/exp/ba5594c345bf064cbcd9c8d014848dc3.jpg' --weights '/home/vladislave/coding/ii/2/yolov5/runs/train/popitka/weights/best.pt' --img 896 --save-txt --save-crop "
   ]
  },
  {
   "cell_type": "markdown",
   "metadata": {},
   "source": []
  }
 ],
 "metadata": {
  "kernelspec": {
   "display_name": "Python 3",
   "language": "python",
   "name": "python3"
  },
  "language_info": {
   "codemirror_mode": {
    "name": "ipython",
    "version": 3
   },
   "file_extension": ".py",
   "mimetype": "text/x-python",
   "name": "python",
   "nbconvert_exporter": "python",
   "pygments_lexer": "ipython3",
   "version": "3.10.12"
  }
 },
 "nbformat": 4,
 "nbformat_minor": 2
}
