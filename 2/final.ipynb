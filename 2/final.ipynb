{
 "cells": [
  {
   "cell_type": "code",
   "execution_count": 1,
   "metadata": {},
   "outputs": [
    {
     "name": "stdout",
     "output_type": "stream",
     "text": [
      "Клонирование в «yolov5»...\n",
      "remote: Enumerating objects: 16559, done.\u001b[K\n",
      "remote: Counting objects: 100% (37/37), done.\u001b[K\n",
      "remote: Compressing objects: 100% (24/24), done.\u001b[K\n",
      "remote: Total 16559 (delta 18), reused 27 (delta 13), pack-reused 16522\u001b[K\n",
      "Получение объектов: 100% (16559/16559), 15.01 МиБ | 1.12 МиБ/с, готово.\n",
      "Определение изменений: 100% (11377/11377), готово.\n"
     ]
    }
   ],
   "source": [
    "!git clone https://github.com/ultralytics/yolov5.git"
   ]
  },
  {
   "cell_type": "code",
   "execution_count": 2,
   "metadata": {},
   "outputs": [],
   "source": [
    "import torch"
   ]
  },
  {
   "cell_type": "code",
   "execution_count": 36,
   "metadata": {},
   "outputs": [
    {
     "name": "stderr",
     "output_type": "stream",
     "text": [
      "10258.87s - pydevd: Sending message related to process being replaced timed-out after 5 seconds\n"
     ]
    },
    {
     "name": "stdout",
     "output_type": "stream",
     "text": [
      "\u001b[34m\u001b[1mtrain: \u001b[0mweights=yolov5s.pt, cfg=, data=/home/vladislave/coding/ii/2/Raccoon_Detector/data.yaml, hyp=/home/vladislave/coding/ii/2/yolov5/data/hyps/my_hyp.yaml, epochs=20, batch_size=32, imgsz=640, rect=False, resume=False, nosave=False, noval=False, noautoanchor=False, noplots=False, evolve=None, evolve_population=yolov5/data/hyps, resume_evolve=None, bucket=, cache=None, image_weights=False, device=, multi_scale=False, single_cls=False, optimizer=SGD, sync_bn=False, workers=4, project=yolov5/runs/train, name=popitka, exist_ok=False, quad=False, cos_lr=False, label_smoothing=0.0, patience=100, freeze=[0], save_period=-1, seed=0, local_rank=-1, entity=None, upload_dataset=False, bbox_interval=-1, artifact_alias=latest, ndjson_console=False, ndjson_file=False\n",
      "\u001b[34m\u001b[1mgithub: \u001b[0m⚠️ YOLOv5 is out of date by 3 commits. Use 'git pull' or 'git clone https://github.com/ultralytics/yolov5' to update.\n",
      "YOLOv5 🚀 v7.0-303-gcf8b67b7 Python-3.10.12 torch-2.2.0+cu121 CUDA:0 (NVIDIA GeForce RTX 3060 Laptop GPU, 5938MiB)\n",
      "\n",
      "\u001b[34m\u001b[1mhyperparameters: \u001b[0mlr0=0.01, lrf=0.1, momentum=0.937, weight_decay=0.0005, warmup_epochs=3.0, warmup_momentum=0.8, warmup_bias_lr=0.1, box=0.05, cls=0.3, cls_pw=1.0, obj=0.7, obj_pw=1.0, iou_t=0.7, anchor_t=4.0, fl_gamma=0.0, hsv_h=0.0, hsv_s=0.0, hsv_v=0.0, degrees=5.0, translate=0.1, scale=0.1, shear=0, perspective=0.0, flipud=0.2, fliplr=0.2, mosaic=0.0, mixup=0.5, copy_paste=0.5\n",
      "\u001b[34m\u001b[1mComet: \u001b[0mrun 'pip install comet_ml' to automatically track and visualize YOLOv5 🚀 runs in Comet\n",
      "\u001b[34m\u001b[1mTensorBoard: \u001b[0mStart with 'tensorboard --logdir yolov5/runs/train', view at http://localhost:6006/\n",
      "Overriding model.yaml nc=80 with nc=1\n",
      "\n",
      "                 from  n    params  module                                  arguments                     \n",
      "  0                -1  1      3520  models.common.Conv                      [3, 32, 6, 2, 2]              \n",
      "  1                -1  1     18560  models.common.Conv                      [32, 64, 3, 2]                \n",
      "  2                -1  1     18816  models.common.C3                        [64, 64, 1]                   \n",
      "  3                -1  1     73984  models.common.Conv                      [64, 128, 3, 2]               \n",
      "  4                -1  2    115712  models.common.C3                        [128, 128, 2]                 \n",
      "  5                -1  1    295424  models.common.Conv                      [128, 256, 3, 2]              \n",
      "  6                -1  3    625152  models.common.C3                        [256, 256, 3]                 \n",
      "  7                -1  1   1180672  models.common.Conv                      [256, 512, 3, 2]              \n",
      "  8                -1  1   1182720  models.common.C3                        [512, 512, 1]                 \n",
      "  9                -1  1    656896  models.common.SPPF                      [512, 512, 5]                 \n",
      " 10                -1  1    131584  models.common.Conv                      [512, 256, 1, 1]              \n",
      " 11                -1  1         0  torch.nn.modules.upsampling.Upsample    [None, 2, 'nearest']          \n",
      " 12           [-1, 6]  1         0  models.common.Concat                    [1]                           \n",
      " 13                -1  1    361984  models.common.C3                        [512, 256, 1, False]          \n",
      " 14                -1  1     33024  models.common.Conv                      [256, 128, 1, 1]              \n",
      " 15                -1  1         0  torch.nn.modules.upsampling.Upsample    [None, 2, 'nearest']          \n",
      " 16           [-1, 4]  1         0  models.common.Concat                    [1]                           \n",
      " 17                -1  1     90880  models.common.C3                        [256, 128, 1, False]          \n",
      " 18                -1  1    147712  models.common.Conv                      [128, 128, 3, 2]              \n",
      " 19          [-1, 14]  1         0  models.common.Concat                    [1]                           \n",
      " 20                -1  1    296448  models.common.C3                        [256, 256, 1, False]          \n",
      " 21                -1  1    590336  models.common.Conv                      [256, 256, 3, 2]              \n",
      " 22          [-1, 10]  1         0  models.common.Concat                    [1]                           \n",
      " 23                -1  1   1182720  models.common.C3                        [512, 512, 1, False]          \n",
      " 24      [17, 20, 23]  1     16182  models.yolo.Detect                      [1, [[10, 13, 16, 30, 33, 23], [30, 61, 62, 45, 59, 119], [116, 90, 156, 198, 373, 326]], [128, 256, 512]]\n",
      "Model summary: 214 layers, 7022326 parameters, 7022326 gradients, 15.9 GFLOPs\n",
      "\n",
      "Transferred 343/349 items from yolov5s.pt\n",
      "\u001b[34m\u001b[1mAMP: \u001b[0mchecks passed ✅\n",
      "\u001b[34m\u001b[1moptimizer:\u001b[0m SGD(lr=0.01) with parameter groups 57 weight(decay=0.0), 60 weight(decay=0.0005), 60 bias\n",
      "\u001b[34m\u001b[1mtrain: \u001b[0mScanning /home/vladislave/coding/ii/2/Raccoon_Detector/train/labels.cache\u001b[0m\n",
      "\u001b[34m\u001b[1mval: \u001b[0mScanning /home/vladislave/coding/ii/2/Raccoon_Detector/valid/labels.cache..\u001b[0m\n",
      "\n",
      "\u001b[34m\u001b[1mAutoAnchor: \u001b[0m3.77 anchors/target, 1.000 Best Possible Recall (BPR). Current anchors are a good fit to dataset ✅\n",
      "Plotting labels to yolov5/runs/train/popitka21/labels.jpg... \n",
      "Image sizes 640 train, 640 val\n",
      "Using 4 dataloader workers\n",
      "Logging results to \u001b[1myolov5/runs/train/popitka21\u001b[0m\n",
      "Starting training for 20 epochs...\n",
      "\n",
      "      Epoch    GPU_mem   box_loss   obj_loss   cls_loss  Instances       Size\n",
      "       0/19       5.9G    0.07508    0.01575          0         29        640: 1\n",
      "                 Class     Images  Instances          P          R      mAP50   \n",
      "                   all        517        534      0.393      0.351      0.333      0.138\n",
      "\n",
      "      Epoch    GPU_mem   box_loss   obj_loss   cls_loss  Instances       Size\n",
      "       1/19      5.76G    0.04325   0.009328          0         22        640: 1\n",
      "                 Class     Images  Instances          P          R      mAP50   \n",
      "                   all        517        534      0.536      0.736      0.572      0.303\n",
      "\n",
      "      Epoch    GPU_mem   box_loss   obj_loss   cls_loss  Instances       Size\n",
      "       2/19      5.76G    0.03956   0.007709          0         30        640: 1\n",
      "                 Class     Images  Instances          P          R      mAP50   \n",
      "                   all        517        534       0.81      0.807      0.854      0.517\n",
      "\n",
      "      Epoch    GPU_mem   box_loss   obj_loss   cls_loss  Instances       Size\n",
      "       3/19      5.76G    0.03663   0.006566          0         23        640: 1\n",
      "                 Class     Images  Instances          P          R      mAP50   \n",
      "                   all        517        534      0.715       0.73      0.795      0.521\n",
      "\n",
      "      Epoch    GPU_mem   box_loss   obj_loss   cls_loss  Instances       Size\n",
      "       4/19      5.76G    0.03446   0.005914          0         23        640: 1\n",
      "                 Class     Images  Instances          P          R      mAP50   \n",
      "                   all        517        534      0.648      0.589      0.645      0.343\n",
      "\n",
      "      Epoch    GPU_mem   box_loss   obj_loss   cls_loss  Instances       Size\n",
      "       5/19      5.76G    0.03177   0.005609          0         21        640: 1\n",
      "                 Class     Images  Instances          P          R      mAP50   \n",
      "                   all        517        534      0.786      0.798      0.855      0.535\n",
      "\n",
      "      Epoch    GPU_mem   box_loss   obj_loss   cls_loss  Instances       Size\n",
      "       6/19      5.76G    0.02929   0.005119          0         23        640: 1\n",
      "                 Class     Images  Instances          P          R      mAP50   \n",
      "                   all        517        534      0.781      0.702      0.764      0.432\n",
      "\n",
      "      Epoch    GPU_mem   box_loss   obj_loss   cls_loss  Instances       Size\n",
      "       7/19      5.76G    0.02917   0.004927          0         24        640: 1\n",
      "                 Class     Images  Instances          P          R      mAP50   \n",
      "                   all        517        534      0.926      0.868      0.945       0.63\n",
      "\n",
      "      Epoch    GPU_mem   box_loss   obj_loss   cls_loss  Instances       Size\n",
      "       8/19      5.76G    0.02584   0.004463          0         28        640: 1\n",
      "                 Class     Images  Instances          P          R      mAP50   \n",
      "                   all        517        534      0.925      0.874      0.946      0.624\n",
      "\n",
      "      Epoch    GPU_mem   box_loss   obj_loss   cls_loss  Instances       Size\n",
      "       9/19      5.76G    0.02417   0.004293          0         30        640: 1\n",
      "                 Class     Images  Instances          P          R      mAP50   \n",
      "                   all        517        534      0.891      0.892      0.954      0.689\n",
      "\n",
      "      Epoch    GPU_mem   box_loss   obj_loss   cls_loss  Instances       Size\n",
      "      10/19      5.76G    0.02449   0.004106          0         23        640: 1\n",
      "                 Class     Images  Instances          P          R      mAP50   \n",
      "                   all        517        534      0.972      0.912      0.973      0.713\n",
      "\n",
      "      Epoch    GPU_mem   box_loss   obj_loss   cls_loss  Instances       Size\n",
      "      11/19      5.76G    0.02285   0.003958          0         23        640: 1\n",
      "                 Class     Images  Instances          P          R      mAP50   \n",
      "                   all        517        534      0.943      0.951       0.98      0.762\n",
      "\n",
      "      Epoch    GPU_mem   box_loss   obj_loss   cls_loss  Instances       Size\n",
      "      12/19      5.76G    0.02224   0.003867          0         21        640: 1\n",
      "                 Class     Images  Instances          P          R      mAP50   \n",
      "                   all        517        534      0.953       0.94       0.98      0.729\n",
      "\n",
      "      Epoch    GPU_mem   box_loss   obj_loss   cls_loss  Instances       Size\n",
      "      13/19      5.76G    0.02113   0.003791          0         25        640: 1\n",
      "                 Class     Images  Instances          P          R      mAP50   \n",
      "                   all        517        534      0.936      0.953      0.982      0.761\n",
      "\n",
      "      Epoch    GPU_mem   box_loss   obj_loss   cls_loss  Instances       Size\n",
      "      14/19      5.76G    0.01987   0.003652          0         25        640: 1\n",
      "                 Class     Images  Instances          P          R      mAP50   \n",
      "                   all        517        534      0.971      0.951      0.985      0.765\n",
      "\n",
      "      Epoch    GPU_mem   box_loss   obj_loss   cls_loss  Instances       Size\n",
      "      15/19      5.76G    0.01936   0.003556          0         21        640: 1\n",
      "                 Class     Images  Instances          P          R      mAP50   \n",
      "                   all        517        534      0.962      0.945      0.978      0.762\n",
      "\n",
      "      Epoch    GPU_mem   box_loss   obj_loss   cls_loss  Instances       Size\n",
      "      16/19      5.76G    0.01856   0.003402          0         38        640: 1\n",
      "                 Class     Images  Instances          P          R      mAP50   \n",
      "                   all        517        534      0.957      0.962      0.984       0.78\n",
      "\n",
      "      Epoch    GPU_mem   box_loss   obj_loss   cls_loss  Instances       Size\n",
      "      17/19      5.76G    0.01893   0.003367          0         22        640: 1\n",
      "                 Class     Images  Instances          P          R      mAP50   \n",
      "                   all        517        534      0.971      0.963      0.989      0.814\n",
      "\n",
      "      Epoch    GPU_mem   box_loss   obj_loss   cls_loss  Instances       Size\n",
      "      18/19      5.76G    0.01741   0.003274          0         22        640: 1\n",
      "                 Class     Images  Instances          P          R      mAP50   \n",
      "                   all        517        534       0.97      0.967      0.989      0.798\n",
      "\n",
      "      Epoch    GPU_mem   box_loss   obj_loss   cls_loss  Instances       Size\n",
      "      19/19      5.76G    0.01744   0.003218          0         25        640: 1\n",
      "                 Class     Images  Instances          P          R      mAP50   \n",
      "                   all        517        534      0.977      0.976      0.989      0.801\n",
      "\n",
      "20 epochs completed in 0.147 hours.\n",
      "Optimizer stripped from yolov5/runs/train/popitka21/weights/last.pt, 14.4MB\n",
      "Optimizer stripped from yolov5/runs/train/popitka21/weights/best.pt, 14.4MB\n",
      "\n",
      "Validating yolov5/runs/train/popitka21/weights/best.pt...\n",
      "Fusing layers... \n",
      "Model summary: 157 layers, 7012822 parameters, 0 gradients, 15.8 GFLOPs\n",
      "                 Class     Images  Instances          P          R      mAP50   \n",
      "                   all        517        534      0.971      0.963      0.989      0.814\n",
      "Results saved to \u001b[1myolov5/runs/train/popitka21\u001b[0m\n"
     ]
    }
   ],
   "source": [
    "!python3.10 /home/vladislave/coding/ii/2/yolov5/train.py --data /home/vladislave/coding/ii/2/Raccoon_Detector/data.yaml --weights yolov5s.pt \\\n",
    "--hyp /home/vladislave/coding/ii/2/yolov5/data/hyps/my_hyp.yaml\\\n",
    "--epochs 20 --batch-size 32 --optimizer SGD --name popitka --workers 4"
   ]
  },
  {
   "cell_type": "code",
   "execution_count": 45,
   "metadata": {},
   "outputs": [
    {
     "name": "stderr",
     "output_type": "stream",
     "text": [
      "11409.65s - pydevd: Sending message related to process being replaced timed-out after 5 seconds\n"
     ]
    },
    {
     "name": "stdout",
     "output_type": "stream",
     "text": [
      "\u001b[34m\u001b[1mdetect: \u001b[0mweights=['/home/vladislave/coding/ii/2/yolov5/runs/train/popitka21/weights/best.pt'], source=/home/vladislave/coding/ii/2/yolov5/runs/detect/exp/ba5594c345bf064cbcd9c8d014848dc3.jpg, data=yolov5/data/coco128.yaml, imgsz=[896, 896], conf_thres=0.25, iou_thres=0.45, max_det=1000, device=, view_img=False, save_txt=True, save_csv=False, save_conf=False, save_crop=True, nosave=False, classes=None, agnostic_nms=False, augment=False, visualize=False, update=False, project=yolov5/runs/detect, name=exp, exist_ok=False, line_thickness=3, hide_labels=False, hide_conf=False, half=False, dnn=False, vid_stride=1\n",
      "YOLOv5 🚀 v7.0-303-gcf8b67b7 Python-3.10.12 torch-2.2.0+cu121 CUDA:0 (NVIDIA GeForce RTX 3060 Laptop GPU, 5938MiB)\n",
      "\n",
      "Fusing layers... \n",
      "Model summary: 157 layers, 7012822 parameters, 0 gradients, 15.8 GFLOPs\n",
      "image 1/1 /home/vladislave/coding/ii/2/yolov5/runs/detect/exp/ba5594c345bf064cbcd9c8d014848dc3.jpg: 672x896 2 raccoons, 52.6ms\n",
      "Speed: 0.5ms pre-process, 52.6ms inference, 277.6ms NMS per image at shape (1, 3, 896, 896)\n",
      "Results saved to \u001b[1myolov5/runs/detect/exp44\u001b[0m\n",
      "1 labels saved to yolov5/runs/detect/exp44/labels\n"
     ]
    }
   ],
   "source": [
    "!python3.10 /home/vladislave/coding/ii/2/yolov5/detect.py --source '/home/vladislave/coding/ii/2/yolov5/runs/detect/exp/ba5594c345bf064cbcd9c8d014848dc3.jpg' --weights '/home/vladislave/coding/ii/2/yolov5/runs/train/popitka21/weights/best.pt' --img 896 --save-txt --save-crop "
   ]
  },
  {
   "cell_type": "code",
   "execution_count": 44,
   "metadata": {},
   "outputs": [
    {
     "name": "stderr",
     "output_type": "stream",
     "text": [
      "11392.22s - pydevd: Sending message related to process being replaced timed-out after 5 seconds\n"
     ]
    },
    {
     "name": "stdout",
     "output_type": "stream",
     "text": [
      "\u001b[34m\u001b[1mdetect: \u001b[0mweights=['/home/vladislave/coding/ii/2/yolov5/runs/train/popitka21/weights/best.pt'], source=https://upload.wikimedia.org/wikipedia/commons/4/47/Raccoon_on_Log.jpg, data=yolov5/data/coco128.yaml, imgsz=[896, 896], conf_thres=0.25, iou_thres=0.45, max_det=1000, device=, view_img=False, save_txt=True, save_csv=False, save_conf=False, save_crop=True, nosave=False, classes=None, agnostic_nms=False, augment=False, visualize=False, update=False, project=yolov5/runs/detect, name=exp, exist_ok=False, line_thickness=3, hide_labels=False, hide_conf=False, half=False, dnn=False, vid_stride=1\n",
      "Found https://upload.wikimedia.org/wikipedia/commons/4/47/Raccoon_on_Log.jpg locally at Raccoon_on_Log.jpg\n",
      "YOLOv5 🚀 v7.0-303-gcf8b67b7 Python-3.10.12 torch-2.2.0+cu121 CUDA:0 (NVIDIA GeForce RTX 3060 Laptop GPU, 5938MiB)\n",
      "\n",
      "Fusing layers... \n",
      "Model summary: 157 layers, 7012822 parameters, 0 gradients, 15.8 GFLOPs\n",
      "image 1/1 /home/vladislave/coding/ii/2/Raccoon_on_Log.jpg: 608x896 1 raccoon, 60.7ms\n",
      "Speed: 0.6ms pre-process, 60.7ms inference, 251.4ms NMS per image at shape (1, 3, 896, 896)\n",
      "Results saved to \u001b[1myolov5/runs/detect/exp43\u001b[0m\n",
      "1 labels saved to yolov5/runs/detect/exp43/labels\n"
     ]
    }
   ],
   "source": [
    "!python3.10 /home/vladislave/coding/ii/2/yolov5/detect.py --source 'https://upload.wikimedia.org/wikipedia/commons/4/47/Raccoon_on_Log.jpg' --weights '/home/vladislave/coding/ii/2/yolov5/runs/train/popitka21/weights/best.pt' --img 896 --save-txt --save-crop "
   ]
  },
  {
   "cell_type": "code",
   "execution_count": 46,
   "metadata": {},
   "outputs": [
    {
     "name": "stderr",
     "output_type": "stream",
     "text": [
      "11434.89s - pydevd: Sending message related to process being replaced timed-out after 5 seconds\n"
     ]
    },
    {
     "name": "stdout",
     "output_type": "stream",
     "text": [
      "\u001b[34m\u001b[1mdetect: \u001b[0mweights=['/home/vladislave/coding/ii/2/yolov5/runs/train/popitka21/weights/best.pt'], source=https://upload.wikimedia.org/wikipedia/commons/thumb/8/82/Medved_mzoo.jpg/275px-Medved_mzoo.jpg, data=yolov5/data/coco128.yaml, imgsz=[896, 896], conf_thres=0.25, iou_thres=0.45, max_det=1000, device=, view_img=False, save_txt=True, save_csv=False, save_conf=False, save_crop=True, nosave=False, classes=None, agnostic_nms=False, augment=False, visualize=False, update=False, project=yolov5/runs/detect, name=exp, exist_ok=False, line_thickness=3, hide_labels=False, hide_conf=False, half=False, dnn=False, vid_stride=1\n",
      "Found https://upload.wikimedia.org/wikipedia/commons/thumb/8/82/Medved_mzoo.jpg/275px-Medved_mzoo.jpg locally at 275px-Medved_mzoo.jpg\n",
      "YOLOv5 🚀 v7.0-303-gcf8b67b7 Python-3.10.12 torch-2.2.0+cu121 CUDA:0 (NVIDIA GeForce RTX 3060 Laptop GPU, 5938MiB)\n",
      "\n",
      "Fusing layers... \n",
      "Model summary: 157 layers, 7012822 parameters, 0 gradients, 15.8 GFLOPs\n",
      "image 1/1 /home/vladislave/coding/ii/2/275px-Medved_mzoo.jpg: 896x672 2 raccoons, 59.3ms\n",
      "Speed: 0.5ms pre-process, 59.3ms inference, 266.9ms NMS per image at shape (1, 3, 896, 896)\n",
      "Results saved to \u001b[1myolov5/runs/detect/exp45\u001b[0m\n",
      "1 labels saved to yolov5/runs/detect/exp45/labels\n"
     ]
    }
   ],
   "source": [
    "!python3.10 /home/vladislave/coding/ii/2/yolov5/detect.py --source 'https://upload.wikimedia.org/wikipedia/commons/thumb/8/82/Medved_mzoo.jpg/275px-Medved_mzoo.jpg' --weights '/home/vladislave/coding/ii/2/yolov5/runs/train/popitka21/weights/best.pt' --img 896 --save-txt --save-crop "
   ]
  },
  {
   "cell_type": "code",
   "execution_count": 47,
   "metadata": {},
   "outputs": [
    {
     "name": "stderr",
     "output_type": "stream",
     "text": [
      "11457.85s - pydevd: Sending message related to process being replaced timed-out after 5 seconds\n"
     ]
    },
    {
     "name": "stdout",
     "output_type": "stream",
     "text": [
      "\u001b[34m\u001b[1mdetect: \u001b[0mweights=['/home/vladislave/coding/ii/2/yolov5/runs/train/popitka11/weights/best.pt'], source=https://cdnn21.img.ria.ru/images/144927/45/1449274544_0:215:2048:1367_1920x0_80_0_0_deed975defb8169df58e9d26ec97184d.jpg, data=yolov5/data/coco128.yaml, imgsz=[896, 896], conf_thres=0.25, iou_thres=0.45, max_det=1000, device=, view_img=False, save_txt=True, save_csv=False, save_conf=False, save_crop=True, nosave=False, classes=None, agnostic_nms=False, augment=False, visualize=False, update=False, project=yolov5/runs/detect, name=exp, exist_ok=False, line_thickness=3, hide_labels=False, hide_conf=False, half=False, dnn=False, vid_stride=1\n",
      "Found https://cdnn21.img.ria.ru/images/144927/45/1449274544_0:215:2048:1367_1920x0_80_0_0_deed975defb8169df58e9d26ec97184d.jpg locally at 1449274544_0:215:2048:1367_1920x0_80_0_0_deed975defb8169df58e9d26ec97184d.jpg\n",
      "YOLOv5 🚀 v7.0-303-gcf8b67b7 Python-3.10.12 torch-2.2.0+cu121 CUDA:0 (NVIDIA GeForce RTX 3060 Laptop GPU, 5938MiB)\n",
      "\n",
      "Fusing layers... \n",
      "Model summary: 157 layers, 7012822 parameters, 0 gradients, 15.8 GFLOPs\n",
      "image 1/1 /home/vladislave/coding/ii/2/1449274544_0:215:2048:1367_1920x0_80_0_0_deed975defb8169df58e9d26ec97184d.jpg: 512x896 (no detections), 53.2ms\n",
      "Speed: 0.5ms pre-process, 53.2ms inference, 6.8ms NMS per image at shape (1, 3, 896, 896)\n",
      "Results saved to \u001b[1myolov5/runs/detect/exp46\u001b[0m\n",
      "0 labels saved to yolov5/runs/detect/exp46/labels\n"
     ]
    }
   ],
   "source": [
    "!python3.10 /home/vladislave/coding/ii/2/yolov5/detect.py --source 'https://cdnn21.img.ria.ru/images/144927/45/1449274544_0:215:2048:1367_1920x0_80_0_0_deed975defb8169df58e9d26ec97184d.jpg' --weights '/home/vladislave/coding/ii/2/yolov5/runs/train/popitka11/weights/best.pt' --img 896 --save-txt --save-crop "
   ]
  },
  {
   "cell_type": "markdown",
   "metadata": {},
   "source": []
  }
 ],
 "metadata": {
  "kernelspec": {
   "display_name": "Python 3",
   "language": "python",
   "name": "python3"
  },
  "language_info": {
   "codemirror_mode": {
    "name": "ipython",
    "version": 3
   },
   "file_extension": ".py",
   "mimetype": "text/x-python",
   "name": "python",
   "nbconvert_exporter": "python",
   "pygments_lexer": "ipython3",
   "version": "3.10.12"
  }
 },
 "nbformat": 4,
 "nbformat_minor": 2
}
